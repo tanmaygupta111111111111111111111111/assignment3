{
 "cells": [
  {
   "cell_type": "markdown",
   "id": "83a024f4-6ce0-4674-a7ea-9319fde2ab70",
   "metadata": {},
   "source": [
    "ASSIGNMENT2\n"
   ]
  },
  {
   "cell_type": "raw",
   "id": "f135a65b-6a20-45f0-a224-c69f6dadd963",
   "metadata": {},
   "source": [
    "Ans1)comments in python are the lines in the code that are ignored by the interpreter during the executon of the program.\n",
    "There are mainly two type of comments:-\n",
    "1)single line comments->denoted by #\n",
    "2)multtiline comments->denoted by \"\"\"\"\"\"\n",
    "eg to comment a code in python:-\n",
    "\"\"\"for i in range(10):\n",
    "      print(i)\"\"\"\""
   ]
  },
  {
   "cell_type": "raw",
   "id": "7f7040e6-1069-4886-bd39-6542a4ba034f",
   "metadata": {},
   "source": [
    "Ans2)python variable is containers that store values.\n",
    "eg v=5 #value 5 is assign to variable v"
   ]
  },
  {
   "cell_type": "code",
   "execution_count": 2,
   "id": "a841ba29-0d5c-41f8-b94f-1ffd003031fb",
   "metadata": {},
   "outputs": [
    {
     "name": "stdout",
     "output_type": "stream",
     "text": [
      "<class 'int'> <class 'float'> <class 'float'>\n",
      "12\n"
     ]
    }
   ],
   "source": [
    "\"\"\"Ans3)there are two methord to convert one data type to another in python:-\n",
    "1)implicit type conversion:-in this,python interpreter automatically converts one data type to another without \n",
    "any user involvement.\n",
    "eg-\"\"\"\n",
    "x=10\n",
    "y=10.6\n",
    "z=x+y\n",
    "print(type(x),type(y),type(z))\n",
    "\"\"\"2)explicit type conversion:-in this ,the data type is manually changed by the user as per the reguirement.\n",
    "eg-\"\"\"\n",
    "x=12.212\n",
    "z=int(x)#explicit type conversion\n",
    "print(z)\n"
   ]
  },
  {
   "cell_type": "raw",
   "id": "e8855c97-4973-40b3-bc04-4c04dcaffe29",
   "metadata": {},
   "source": [
    "\"\"\"ans4)to run a python script in command line ,we have to write\"ptyhon\"keyword before the file name in the command prompt.\n",
    "eg- pytho hello.py\"\"\""
   ]
  },
  {
   "cell_type": "code",
   "execution_count": 4,
   "id": "2703759e-f9c5-4644-bfc9-3c791734ad8c",
   "metadata": {},
   "outputs": [
    {
     "name": "stdout",
     "output_type": "stream",
     "text": [
      "[2, 3]\n"
     ]
    }
   ],
   "source": [
    "#ans5)\n",
    "my_list=[1,2,3,4,5]\n",
    "print(my_list[1:3])"
   ]
  },
  {
   "cell_type": "code",
   "execution_count": 8,
   "id": "f7f96c41-9282-4fdd-93f1-f2559e651053",
   "metadata": {},
   "outputs": [
    {
     "name": "stdout",
     "output_type": "stream",
     "text": [
      "(5+7j)\n"
     ]
    }
   ],
   "source": [
    "\"\"\"ans6)a complex number in mathematics is a combination of real number and immaginary number.\n",
    "In mathematics it is denoted by -real part + imaginary part.\n",
    "in mathmatics imaginary part is denoted by i.\"\"\"\n",
    "\"\"\"In python it is represented by-:\"\"\"\n",
    "c=5+7j  #j represent immaginary part\n",
    "print(c)\n",
    "\n",
    "\n"
   ]
  },
  {
   "cell_type": "code",
   "execution_count": 9,
   "id": "0a6f511f-f1ed-4d11-903a-24d342d23cf7",
   "metadata": {},
   "outputs": [],
   "source": [
    "# ans7)\n",
    "age=25"
   ]
  },
  {
   "cell_type": "code",
   "execution_count": 10,
   "id": "9abe5b0d-65a0-4487-bd26-18733b425648",
   "metadata": {},
   "outputs": [
    {
     "data": {
      "text/plain": [
       "float"
      ]
     },
     "execution_count": 10,
     "metadata": {},
     "output_type": "execute_result"
    }
   ],
   "source": [
    "# ans8)\n",
    "price=9.99\n",
    "type(price)"
   ]
  },
  {
   "cell_type": "code",
   "execution_count": 12,
   "id": "a65a8f2a-02e6-48e5-afa4-1321b753c5c1",
   "metadata": {},
   "outputs": [
    {
     "name": "stdout",
     "output_type": "stream",
     "text": [
      "Tanmay Gupta\n"
     ]
    }
   ],
   "source": [
    "#ans9)\n",
    "name=\"Tanmay Gupta\"\n",
    "print(name)"
   ]
  },
  {
   "cell_type": "code",
   "execution_count": 13,
   "id": "2739fdea-7728-4e81-9907-ce12a78b58f9",
   "metadata": {},
   "outputs": [
    {
     "name": "stdout",
     "output_type": "stream",
     "text": [
      "World\n"
     ]
    }
   ],
   "source": [
    "#ans10)\n",
    "s=\"Hello World!\"\n",
    "print(s[6:11])"
   ]
  },
  {
   "cell_type": "code",
   "execution_count": 14,
   "id": "06b59f0e-e6d2-4dc9-bce3-2c4ec4cc38fe",
   "metadata": {},
   "outputs": [
    {
     "name": "stdout",
     "output_type": "stream",
     "text": [
      "you are student\n"
     ]
    }
   ],
   "source": [
    "is_student=1\n",
    "if is_student:\n",
    "    print(\"you are student\")\n",
    "else:\n",
    "    print(\"you are not student\")"
   ]
  },
  {
   "cell_type": "code",
   "execution_count": null,
   "id": "fd098509-9041-4c3f-926a-675064db22e8",
   "metadata": {},
   "outputs": [],
   "source": []
  }
 ],
 "metadata": {
  "kernelspec": {
   "display_name": "Python 3 (ipykernel)",
   "language": "python",
   "name": "python3"
  },
  "language_info": {
   "codemirror_mode": {
    "name": "ipython",
    "version": 3
   },
   "file_extension": ".py",
   "mimetype": "text/x-python",
   "name": "python",
   "nbconvert_exporter": "python",
   "pygments_lexer": "ipython3",
   "version": "3.10.8"
  }
 },
 "nbformat": 4,
 "nbformat_minor": 5
}
